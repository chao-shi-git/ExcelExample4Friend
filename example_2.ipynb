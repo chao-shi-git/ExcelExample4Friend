{
 "cells": [
  {
   "cell_type": "markdown",
   "metadata": {},
   "source": [
    "## to run this example, these packages are needed\n",
    "- python (tested in python 3.6)\n",
    "- pandas\n",
    "- xlrd\n",
    "- openpyxl"
   ]
  },
  {
   "cell_type": "code",
   "execution_count": 25,
   "metadata": {},
   "outputs": [],
   "source": [
    "import pandas as pd"
   ]
  },
  {
   "cell_type": "code",
   "execution_count": 26,
   "metadata": {},
   "outputs": [],
   "source": [
    "filename = 'sample_file_3_sheets.xlsx'"
   ]
  },
  {
   "cell_type": "code",
   "execution_count": 27,
   "metadata": {},
   "outputs": [],
   "source": [
    "xl = pd.ExcelFile(filename)"
   ]
  },
  {
   "cell_type": "code",
   "execution_count": 28,
   "metadata": {},
   "outputs": [
    {
     "data": {
      "text/plain": [
       "['sheet_to_overwrite', 'sheet_do_not_touch', 'sheet_also_do_not_touch']"
      ]
     },
     "execution_count": 28,
     "metadata": {},
     "output_type": "execute_result"
    }
   ],
   "source": [
    "xl.sheet_names"
   ]
  },
  {
   "cell_type": "code",
   "execution_count": 29,
   "metadata": {},
   "outputs": [],
   "source": [
    "dfs = []\n",
    "for sheet_name in xl.sheet_names:\n",
    "    dfs.append(xl.parse(sheet_name))"
   ]
  },
  {
   "cell_type": "code",
   "execution_count": 30,
   "metadata": {},
   "outputs": [
    {
     "data": {
      "text/plain": [
       "[   update  me\n",
       " 0       1   2\n",
       " 1       1   2\n",
       " 2       1   2\n",
       " 3       1   2,    keep  me\n",
       " 0     1   2\n",
       " 1     2   3\n",
       " 2     2   5\n",
       " 3     3   4,    live  on\n",
       " 0     1   3\n",
       " 1     2   3\n",
       " 2     5   6]"
      ]
     },
     "execution_count": 30,
     "metadata": {},
     "output_type": "execute_result"
    }
   ],
   "source": [
    "dfs"
   ]
  },
  {
   "cell_type": "code",
   "execution_count": 31,
   "metadata": {},
   "outputs": [],
   "source": [
    "dfs[0] = pd.DataFrame({'A':[1111,1111,1111,1111],\n",
    "             'B':[2222,2222,2222,2222]})"
   ]
  },
  {
   "cell_type": "code",
   "execution_count": 32,
   "metadata": {},
   "outputs": [
    {
     "data": {
      "text/plain": [
       "[      A     B\n",
       " 0  1111  2222\n",
       " 1  1111  2222\n",
       " 2  1111  2222\n",
       " 3  1111  2222,    keep  me\n",
       " 0     1   2\n",
       " 1     2   3\n",
       " 2     2   5\n",
       " 3     3   4,    live  on\n",
       " 0     1   3\n",
       " 1     2   3\n",
       " 2     5   6]"
      ]
     },
     "execution_count": 32,
     "metadata": {},
     "output_type": "execute_result"
    }
   ],
   "source": [
    "dfs"
   ]
  },
  {
   "cell_type": "code",
   "execution_count": 14,
   "metadata": {},
   "outputs": [],
   "source": [
    "writer = pd.ExcelWriter(filename)"
   ]
  },
  {
   "cell_type": "code",
   "execution_count": 15,
   "metadata": {},
   "outputs": [],
   "source": [
    "# this is to align the new dataframes with their original sheet names\n",
    "dummy = zip(dfs,xl.sheet_names)"
   ]
  },
  {
   "cell_type": "code",
   "execution_count": 17,
   "metadata": {},
   "outputs": [],
   "source": [
    "for info in dummy:\n",
    "    # info[0] is the dataframe, info[1] is the sheetname\n",
    "    info[0].to_excel(writer, sheet_name=info[1], index=False)"
   ]
  },
  {
   "cell_type": "code",
   "execution_count": 18,
   "metadata": {},
   "outputs": [],
   "source": [
    "writer.save()"
   ]
  }
 ],
 "metadata": {
  "kernelspec": {
   "display_name": "Python 3",
   "language": "python",
   "name": "python3"
  },
  "language_info": {
   "codemirror_mode": {
    "name": "ipython",
    "version": 3
   },
   "file_extension": ".py",
   "mimetype": "text/x-python",
   "name": "python",
   "nbconvert_exporter": "python",
   "pygments_lexer": "ipython3",
   "version": "3.6.10"
  }
 },
 "nbformat": 4,
 "nbformat_minor": 4
}
